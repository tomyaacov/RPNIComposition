{
  "cells": [
    {
      "cell_type": "code",
      "source": [
        "%tensorflow_version 1.x\n",
        "%cd /content\n",
        "!git clone https://github.com/tomyaacov/RPNIComposition\n",
        "%cd RPNIComposition\n",
        "!pip install numpy==1.19.5"
      ],
      "metadata": {
        "id": "2iWYGQb0A1xi",
        "outputId": "a01dc5bb-64b9-4362-aca5-ddb3b49b943c",
        "colab": {
          "base_uri": "https://localhost:8080/"
        }
      },
      "execution_count": 1,
      "outputs": [
        {
          "output_type": "stream",
          "name": "stdout",
          "text": [
            "TensorFlow 1.x selected.\n",
            "/content\n",
            "fatal: destination path 'RPNIComposition' already exists and is not an empty directory.\n",
            "/content/RPNIComposition\n",
            "Looking in indexes: https://pypi.org/simple, https://us-python.pkg.dev/colab-wheels/public/simple/\n",
            "Requirement already satisfied: numpy==1.19.5 in /usr/local/lib/python3.7/dist-packages (1.19.5)\n"
          ]
        }
      ]
    },
    {
      "cell_type": "code",
      "source": [
        "from tensorflow.keras.models import Sequential\n",
        "from tensorflow.keras.layers import Flatten,Embedding,Dense, Dropout, LSTM\n",
        "from tensorflow.keras.utils import to_categorical\n",
        "from tensorflow.keras.preprocessing.text import one_hot\n",
        "from tensorflow.keras.preprocessing.sequence import pad_sequences\n",
        "import numpy as np\n",
        "import pickle\n",
        "import time\n",
        "import sys\n",
        "import random\n",
        "random.seed(1)"
      ],
      "metadata": {
        "id": "qqSV7ajPCwyM"
      },
      "execution_count": 2,
      "outputs": []
    },
    {
      "cell_type": "code",
      "source": [
        "with open(\"data/ABC_10_train.pkl\", 'rb') as file:\n",
        "    train = pickle.load(file)\n",
        "with open(\"data/ABC_10_test.pkl\", 'rb') as file:\n",
        "    test = pickle.load(file)"
      ],
      "metadata": {
        "id": "W7Y5iMfeCzSZ"
      },
      "execution_count": 3,
      "outputs": []
    },
    {
      "cell_type": "code",
      "source": [
        "train_data = [list(x[0]) for x in train]\n",
        "test_data = [list(x[0])  for x in test]\n",
        "train_labels = np.array([int(x[1]) for x in train])\n",
        "test_labels = np.array([int(x[1]) for x in test])"
      ],
      "metadata": {
        "id": "GOxE1iOSDg_L"
      },
      "execution_count": 4,
      "outputs": []
    },
    {
      "cell_type": "code",
      "source": [
        "DICTIONARY = [\"A\", \"B\", \"C\"]\n",
        "def get_enc(c):\n",
        "  return DICTIONARY.index(c)\n",
        "train_data_enc = [[get_enc(c) for c in d] for d in train_data]\n",
        "test_data_enc = [[get_enc(c) for c in d] for d in test_data]"
      ],
      "metadata": {
        "id": "uH1cYJ3mDqwz"
      },
      "execution_count": 5,
      "outputs": []
    },
    {
      "cell_type": "code",
      "source": [
        "max_length = 10\n",
        "train_data_pad = pad_sequences(train_data_enc,maxlen=max_length,padding='post',value=3)\n",
        "test_data_pad = pad_sequences(test_data_enc,maxlen=max_length,padding='post',value=3)"
      ],
      "metadata": {
        "id": "0WFbPjK-ELxs"
      },
      "execution_count": 6,
      "outputs": []
    },
    {
      "cell_type": "code",
      "source": [
        "model=Sequential()\n",
        "\n",
        "model.add(Embedding(4,2,input_length=10))\n",
        "model.add(LSTM(12,input_shape=(10, 2),activation='relu',return_sequences=True))\n",
        "model.add(Dropout(0.1))\n",
        "model.add(LSTM(12,activation='relu'))\n",
        "model.add(Dropout(0.1))\n",
        "model.add(Dense(12,activation='relu'))\n",
        "model.add(Dropout(0.1))\n",
        "model.add(Dense(1,activation='sigmoid'))\n",
        "\n",
        "model.compile(loss='binary_crossentropy',optimizer='adam',metrics=['accuracy'])\n",
        "\n",
        "print(model.summary())"
      ],
      "metadata": {
        "id": "1XCsEOkaEu0Z",
        "outputId": "b297feda-3299-49cc-88fd-299b01f762be",
        "colab": {
          "base_uri": "https://localhost:8080/"
        }
      },
      "execution_count": 7,
      "outputs": [
        {
          "output_type": "stream",
          "name": "stdout",
          "text": [
            "WARNING:tensorflow:From /tensorflow-1.15.2/python3.7/tensorflow_core/python/keras/initializers.py:119: calling RandomUniform.__init__ (from tensorflow.python.ops.init_ops) with dtype is deprecated and will be removed in a future version.\n",
            "Instructions for updating:\n",
            "Call initializer instance with the dtype argument instead of passing it to the constructor\n",
            "WARNING:tensorflow:From /tensorflow-1.15.2/python3.7/tensorflow_core/python/ops/resource_variable_ops.py:1630: calling BaseResourceVariable.__init__ (from tensorflow.python.ops.resource_variable_ops) with constraint is deprecated and will be removed in a future version.\n",
            "Instructions for updating:\n",
            "If using Keras pass *_constraint arguments to layers.\n",
            "WARNING:tensorflow:From /tensorflow-1.15.2/python3.7/tensorflow_core/python/ops/nn_impl.py:183: where (from tensorflow.python.ops.array_ops) is deprecated and will be removed in a future version.\n",
            "Instructions for updating:\n",
            "Use tf.where in 2.0, which has the same broadcast rule as np.where\n",
            "Model: \"sequential\"\n",
            "_________________________________________________________________\n",
            "Layer (type)                 Output Shape              Param #   \n",
            "=================================================================\n",
            "embedding (Embedding)        (None, 10, 2)             8         \n",
            "_________________________________________________________________\n",
            "lstm (LSTM)                  (None, 10, 12)            720       \n",
            "_________________________________________________________________\n",
            "dropout (Dropout)            (None, 10, 12)            0         \n",
            "_________________________________________________________________\n",
            "lstm_1 (LSTM)                (None, 12)                1200      \n",
            "_________________________________________________________________\n",
            "dropout_1 (Dropout)          (None, 12)                0         \n",
            "_________________________________________________________________\n",
            "dense (Dense)                (None, 12)                156       \n",
            "_________________________________________________________________\n",
            "dropout_2 (Dropout)          (None, 12)                0         \n",
            "_________________________________________________________________\n",
            "dense_1 (Dense)              (None, 1)                 13        \n",
            "=================================================================\n",
            "Total params: 2,097\n",
            "Trainable params: 2,097\n",
            "Non-trainable params: 0\n",
            "_________________________________________________________________\n",
            "None\n"
          ]
        }
      ]
    },
    {
      "cell_type": "code",
      "source": [
        "start_time = time.time()\n",
        "history = model.fit(train_data_pad, train_labels, epochs=10, batch_size=32, validation_data=(test_data_pad, test_labels))\n",
        "print(\"lstm:\")\n",
        "print(\"--- %s seconds training ---\" % (time.time() - start_time))\n",
        "print(\"lstm acc\", history.history[\"acc\"])\n",
        "lstm_acc = history.history[\"acc\"]\n",
        "print(\"lstm val acc\", history.history[\"val_acc\"])\n",
        "lstm_val_acc = history.history[\"val_acc\"]"
      ],
      "metadata": {
        "id": "v_EiD_lNFj-y",
        "outputId": "d32143b7-daa8-4002-cc98-f18d67facd0d",
        "colab": {
          "base_uri": "https://localhost:8080/"
        }
      },
      "execution_count": 8,
      "outputs": [
        {
          "output_type": "stream",
          "name": "stdout",
          "text": [
            "Train on 62000 samples, validate on 26572 samples\n",
            "Epoch 1/10\n",
            "62000/62000 [==============================] - 55s 890us/sample - loss: 0.3964 - acc: 0.8602 - val_loss: 0.3763 - val_acc: 0.8625\n",
            "Epoch 2/10\n",
            "62000/62000 [==============================] - 53s 860us/sample - loss: 0.3771 - acc: 0.8606 - val_loss: 0.3658 - val_acc: 0.8625\n",
            "Epoch 3/10\n",
            "62000/62000 [==============================] - 53s 858us/sample - loss: 0.3732 - acc: 0.8606 - val_loss: 0.3647 - val_acc: 0.8625\n",
            "Epoch 4/10\n",
            "62000/62000 [==============================] - 53s 853us/sample - loss: 0.3693 - acc: 0.8606 - val_loss: 0.3561 - val_acc: 0.8625\n",
            "Epoch 5/10\n",
            "62000/62000 [==============================] - 53s 855us/sample - loss: 0.3544 - acc: 0.8606 - val_loss: 0.3230 - val_acc: 0.8625\n",
            "Epoch 6/10\n",
            "62000/62000 [==============================] - 53s 855us/sample - loss: 0.3261 - acc: 0.8606 - val_loss: 0.3103 - val_acc: 0.8625\n",
            "Epoch 7/10\n",
            "62000/62000 [==============================] - 53s 856us/sample - loss: 0.3155 - acc: 0.8606 - val_loss: 0.3034 - val_acc: 0.8625\n",
            "Epoch 8/10\n",
            "62000/62000 [==============================] - 54s 863us/sample - loss: 0.3079 - acc: 0.8606 - val_loss: 0.2991 - val_acc: 0.8625\n",
            "Epoch 9/10\n",
            "62000/62000 [==============================] - 53s 849us/sample - loss: 0.3003 - acc: 0.8606 - val_loss: 0.2932 - val_acc: 0.8625\n",
            "Epoch 10/10\n",
            "62000/62000 [==============================] - 53s 854us/sample - loss: 0.2785 - acc: 0.8606 - val_loss: 0.2594 - val_acc: 0.8625\n",
            "lstm:\n",
            "--- 538.5739238262177 seconds training ---\n",
            "lstm acc [0.86019355, 0.8605806, 0.8605806, 0.8605806, 0.8605806, 0.8605806, 0.8605806, 0.8605806, 0.8605806, 0.8605806]\n",
            "lstm val acc [0.86248684, 0.86248684, 0.86248684, 0.86248684, 0.86248684, 0.86248684, 0.86248684, 0.86248684, 0.86248684, 0.86248684]\n"
          ]
        }
      ]
    },
    {
      "cell_type": "code",
      "source": [
        "from google.colab import drive\n",
        "drive.mount('/content/drive', force_remount=True)"
      ],
      "metadata": {
        "id": "j96eygAFFISz",
        "outputId": "9e6a4241-60a8-43dd-8970-eaa659ccf632",
        "colab": {
          "base_uri": "https://localhost:8080/"
        }
      },
      "execution_count": 9,
      "outputs": [
        {
          "output_type": "stream",
          "name": "stdout",
          "text": [
            "Mounted at /content/drive\n"
          ]
        }
      ]
    },
    {
      "cell_type": "code",
      "source": [
        "import pandas as pd\n",
        "path = '/content/drive/MyDrive/research/abc_model_history.csv'\n",
        "\n",
        "with open(path, 'w', encoding = 'utf-8-sig') as f:\n",
        "  df = pd.DataFrame.from_dict(history.history)\n",
        "  df.to_csv(f)\n",
        "\n",
        "path = '/content/drive/MyDrive/research/abc_model.h5'\n",
        "model.save(path)"
      ],
      "metadata": {
        "id": "X-UedON8KU3K"
      },
      "execution_count": 10,
      "outputs": []
    }
  ],
  "metadata": {
    "kernelspec": {
      "display_name": "Python 3",
      "language": "python",
      "name": "python3"
    },
    "language_info": {
      "codemirror_mode": {
        "name": "ipython",
        "version": 2
      },
      "file_extension": ".py",
      "mimetype": "text/x-python",
      "name": "python",
      "nbconvert_exporter": "python",
      "pygments_lexer": "ipython2",
      "version": "2.7.6"
    },
    "colab": {
      "name": "run_rnn_abc.ipynb",
      "provenance": []
    },
    "accelerator": "GPU",
    "gpuClass": "standard"
  },
  "nbformat": 4,
  "nbformat_minor": 0
}