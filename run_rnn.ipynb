{
  "cells": [
    {
      "cell_type": "code",
      "execution_count": 1,
      "metadata": {
        "collapsed": true,
        "colab": {
          "base_uri": "https://localhost:8080/"
        },
        "id": "dQ080KJOzQpp",
        "outputId": "b36586a7-8e13-4d9c-8054-26f774b37899"
      },
      "outputs": [
        {
          "output_type": "stream",
          "name": "stdout",
          "text": [
            "TensorFlow 1.x selected.\n",
            "/content\n",
            "fatal: destination path 'RPNIComposition' already exists and is not an empty directory.\n",
            "/content/RPNIComposition\n",
            "Looking in indexes: https://pypi.org/simple, https://us-python.pkg.dev/colab-wheels/public/simple/\n",
            "Requirement already satisfied: numpy==1.19.5 in /usr/local/lib/python3.7/dist-packages (1.19.5)\n"
          ]
        }
      ],
      "source": [
        "%tensorflow_version 1.x\n",
        "%cd /content\n",
        "!git clone https://github.com/tomyaacov/RPNIComposition\n",
        "%cd RPNIComposition\n",
        "!pip install numpy==1.19.5"
      ]
    },
    {
      "cell_type": "code",
      "source": [
        "from tensorflow.keras.models import Sequential\n",
        "from tensorflow.keras.layers import Flatten,Embedding,Dense, Dropout, LSTM\n",
        "from tensorflow.keras.utils import to_categorical\n",
        "from tensorflow.keras.preprocessing.text import one_hot\n",
        "from tensorflow.keras.preprocessing.sequence import pad_sequences\n",
        "import numpy as np\n",
        "print(np.__version__)\n",
        "import time\n",
        "import sys\n",
        "import random\n",
        "random.seed(1)"
      ],
      "metadata": {
        "id": "oINxIpk9z_co",
        "outputId": "c981f4aa-e6dc-44ce-eff0-763151b31dc2",
        "colab": {
          "base_uri": "https://localhost:8080/"
        }
      },
      "execution_count": 2,
      "outputs": [
        {
          "output_type": "stream",
          "name": "stdout",
          "text": [
            "1.19.5\n"
          ]
        }
      ]
    },
    {
      "cell_type": "code",
      "source": [
        "data = []\n",
        "with open(\"data/\" + \"accepted_words.csv\", 'r') as f:\n",
        "    for line in f:\n",
        "        data.append(line.strip().split(\",\") + [\"1\"])\n",
        "with open(\"data/\" + \"rejected_words.csv\", 'r') as f:\n",
        "    for line in f:\n",
        "        data.append(line.strip().split(\",\") + [\"0\"])\n",
        "random.shuffle(data)\n",
        "train = data[:int(len(data) * 0.8)]\n",
        "test = data[int(len(data) * 0.8):]"
      ],
      "metadata": {
        "id": "ZXk0-OqROdym"
      },
      "execution_count": 3,
      "outputs": []
    },
    {
      "cell_type": "code",
      "source": [
        "train_data = [x[:-1] for x in train]\n",
        "test_data = [x[:-1] for x in test]\n",
        "train_labels = np.array([int(x[-1]) for x in train])\n",
        "test_labels = np.array([int(x[-1]) for x in test])"
      ],
      "metadata": {
        "id": "MugyIL-FPJxy"
      },
      "execution_count": 4,
      "outputs": []
    },
    {
      "cell_type": "code",
      "source": [
        "def get_enc(c):\n",
        "  if c[0] == \"X\":\n",
        "    return int(c[1:])\n",
        "  else:\n",
        "    return 9+int(c[1:])\n",
        "train_data_enc = [[get_enc(c) for c in d] for d in train_data]\n",
        "test_data_enc = [[get_enc(c) for c in d] for d in test_data]\n"
      ],
      "metadata": {
        "id": "YHS1m6u4PAV-"
      },
      "execution_count": 5,
      "outputs": []
    },
    {
      "cell_type": "code",
      "source": [
        "max_length = 9\n",
        "train_data_pad = pad_sequences(train_data_enc,maxlen=max_length,padding='post',value=18)\n",
        "test_data_pad = pad_sequences(test_data_enc,maxlen=max_length,padding='post',value=18)"
      ],
      "metadata": {
        "id": "BU-WFtvzRljR"
      },
      "execution_count": 6,
      "outputs": []
    },
    {
      "cell_type": "code",
      "source": [
        "model=Sequential()\n",
        "\n",
        "model.add(Embedding(19,10,input_length=9))\n",
        "model.add(LSTM(32,input_shape=(9, 10),activation='relu',return_sequences=True))\n",
        "model.add(Dropout(0.1))\n",
        "model.add(LSTM(32,activation='relu'))\n",
        "model.add(Dropout(0.1))\n",
        "model.add(Dense(32,activation='relu'))\n",
        "model.add(Dropout(0.1))\n",
        "model.add(Dense(1,activation='sigmoid'))\n",
        "\n",
        "model.compile(loss='binary_crossentropy',optimizer='adam',metrics=['accuracy'])\n",
        "\n",
        "print(model.summary())"
      ],
      "metadata": {
        "id": "_YU_pt6NVJKo",
        "outputId": "f76b827e-2472-4215-e017-551f228eda9c",
        "colab": {
          "base_uri": "https://localhost:8080/"
        }
      },
      "execution_count": 7,
      "outputs": [
        {
          "output_type": "stream",
          "name": "stdout",
          "text": [
            "WARNING:tensorflow:From /tensorflow-1.15.2/python3.7/tensorflow_core/python/keras/initializers.py:119: calling RandomUniform.__init__ (from tensorflow.python.ops.init_ops) with dtype is deprecated and will be removed in a future version.\n",
            "Instructions for updating:\n",
            "Call initializer instance with the dtype argument instead of passing it to the constructor\n",
            "WARNING:tensorflow:From /tensorflow-1.15.2/python3.7/tensorflow_core/python/ops/resource_variable_ops.py:1630: calling BaseResourceVariable.__init__ (from tensorflow.python.ops.resource_variable_ops) with constraint is deprecated and will be removed in a future version.\n",
            "Instructions for updating:\n",
            "If using Keras pass *_constraint arguments to layers.\n",
            "WARNING:tensorflow:From /tensorflow-1.15.2/python3.7/tensorflow_core/python/ops/nn_impl.py:183: where (from tensorflow.python.ops.array_ops) is deprecated and will be removed in a future version.\n",
            "Instructions for updating:\n",
            "Use tf.where in 2.0, which has the same broadcast rule as np.where\n",
            "Model: \"sequential\"\n",
            "_________________________________________________________________\n",
            "Layer (type)                 Output Shape              Param #   \n",
            "=================================================================\n",
            "embedding (Embedding)        (None, 9, 10)             190       \n",
            "_________________________________________________________________\n",
            "lstm (LSTM)                  (None, 9, 32)             5504      \n",
            "_________________________________________________________________\n",
            "dropout (Dropout)            (None, 9, 32)             0         \n",
            "_________________________________________________________________\n",
            "lstm_1 (LSTM)                (None, 32)                8320      \n",
            "_________________________________________________________________\n",
            "dropout_1 (Dropout)          (None, 32)                0         \n",
            "_________________________________________________________________\n",
            "dense (Dense)                (None, 32)                1056      \n",
            "_________________________________________________________________\n",
            "dropout_2 (Dropout)          (None, 32)                0         \n",
            "_________________________________________________________________\n",
            "dense_1 (Dense)              (None, 1)                 33        \n",
            "=================================================================\n",
            "Total params: 15,103\n",
            "Trainable params: 15,103\n",
            "Non-trainable params: 0\n",
            "_________________________________________________________________\n",
            "None\n"
          ]
        }
      ]
    },
    {
      "cell_type": "code",
      "source": [
        "start_time = time.time()\n",
        "history = model.fit(train_data_pad, train_labels, epochs=10, batch_size=64, validation_data=(test_data_pad, test_labels))\n",
        "print(\"lstm:\")\n",
        "print(\"--- %s seconds training ---\" % (time.time() - start_time))\n"
      ],
      "metadata": {
        "id": "X4YfuKorWcw1",
        "outputId": "1500ba8f-2675-4253-809a-71afa7ba34db",
        "colab": {
          "base_uri": "https://localhost:8080/"
        }
      },
      "execution_count": 10,
      "outputs": [
        {
          "output_type": "stream",
          "name": "stdout",
          "text": [
            "Train on 1000 samples, validate on 1000 samples\n",
            "Epoch 1/10\n",
            "1000/1000 [==============================] - 0s 464us/sample - loss: 0.4615 - acc: 0.7970 - val_loss: 0.5165 - val_acc: 0.7610\n",
            "Epoch 2/10\n",
            "1000/1000 [==============================] - 0s 485us/sample - loss: 0.4580 - acc: 0.7970 - val_loss: 0.5187 - val_acc: 0.7610\n",
            "Epoch 3/10\n",
            "1000/1000 [==============================] - 0s 479us/sample - loss: 0.4495 - acc: 0.7970 - val_loss: 0.5072 - val_acc: 0.7610\n",
            "Epoch 4/10\n",
            "1000/1000 [==============================] - 0s 488us/sample - loss: 0.4373 - acc: 0.7970 - val_loss: 0.4998 - val_acc: 0.7610\n",
            "Epoch 5/10\n",
            "1000/1000 [==============================] - 0s 492us/sample - loss: 0.4293 - acc: 0.7970 - val_loss: 0.5000 - val_acc: 0.7610\n",
            "Epoch 6/10\n",
            "1000/1000 [==============================] - 0s 479us/sample - loss: 0.4109 - acc: 0.7970 - val_loss: 0.4615 - val_acc: 0.7610\n",
            "Epoch 7/10\n",
            "1000/1000 [==============================] - 0s 469us/sample - loss: 0.3977 - acc: 0.7970 - val_loss: 0.4436 - val_acc: 0.7610\n",
            "Epoch 8/10\n",
            "1000/1000 [==============================] - 0s 496us/sample - loss: 0.3765 - acc: 0.7970 - val_loss: 0.4388 - val_acc: 0.7610\n",
            "Epoch 9/10\n",
            "1000/1000 [==============================] - 0s 470us/sample - loss: 0.3585 - acc: 0.7970 - val_loss: 0.4138 - val_acc: 0.7610\n",
            "Epoch 10/10\n",
            "1000/1000 [==============================] - 0s 465us/sample - loss: 0.3398 - acc: 0.7970 - val_loss: 0.4026 - val_acc: 0.7610\n",
            "lstm:\n",
            "--- 4.853600263595581 seconds training ---\n"
          ]
        }
      ]
    },
    {
      "cell_type": "code",
      "source": [
        "print(\"lstm acc\", history.history[\"acc\"])\n",
        "lstm_acc = history.history[\"acc\"]\n",
        "print(\"lstm val acc\", history.history[\"val_acc\"])\n",
        "lstm_val_acc = history.history[\"val_acc\"]"
      ],
      "metadata": {
        "id": "30yGNzccIXPR",
        "outputId": "800f1687-d276-4fd0-d2a0-5def2688ea62",
        "colab": {
          "base_uri": "https://localhost:8080/"
        }
      },
      "execution_count": 11,
      "outputs": [
        {
          "output_type": "stream",
          "name": "stdout",
          "text": [
            "lstm acc [0.797, 0.797, 0.797, 0.797, 0.797, 0.797, 0.797, 0.797, 0.797, 0.797]\n",
            "lstm val acc [0.761, 0.761, 0.761, 0.761, 0.761, 0.761, 0.761, 0.761, 0.761, 0.761]\n"
          ]
        }
      ]
    },
    {
      "cell_type": "code",
      "source": [
        "from google.colab import drive\n",
        "drive.mount('/content/drive', force_remount=True)"
      ],
      "metadata": {
        "id": "0dZa7WlGjZkS",
        "outputId": "a9901b29-378b-45ed-ae93-77a662933ef7",
        "colab": {
          "base_uri": "https://localhost:8080/"
        }
      },
      "execution_count": 12,
      "outputs": [
        {
          "output_type": "stream",
          "name": "stdout",
          "text": [
            "Mounted at /content/drive\n"
          ]
        }
      ]
    },
    {
      "cell_type": "code",
      "source": [
        "import pandas as pd\n",
        "path = '/content/drive/MyDrive/research/tic_tac_toe_model_history.csv'\n",
        "\n",
        "with open(path, 'w', encoding = 'utf-8-sig') as f:\n",
        "  df = pd.DataFrame.from_dict(history.history)\n",
        "  df.to_csv(f)\n",
        "\n",
        "path = '/content/drive/MyDrive/research/tic_tac_toe_model.h5'\n",
        "model.save(path)"
      ],
      "metadata": {
        "id": "KBMK92diiXDm"
      },
      "execution_count": null,
      "outputs": []
    }
  ],
  "metadata": {
    "kernelspec": {
      "display_name": "Python 3",
      "language": "python",
      "name": "python3"
    },
    "language_info": {
      "codemirror_mode": {
        "name": "ipython",
        "version": 2
      },
      "file_extension": ".py",
      "mimetype": "text/x-python",
      "name": "python",
      "nbconvert_exporter": "python",
      "pygments_lexer": "ipython2",
      "version": "2.7.6"
    },
    "colab": {
      "name": "run_rnn.ipynb",
      "provenance": []
    },
    "accelerator": "GPU",
    "gpuClass": "standard"
  },
  "nbformat": 4,
  "nbformat_minor": 0
}